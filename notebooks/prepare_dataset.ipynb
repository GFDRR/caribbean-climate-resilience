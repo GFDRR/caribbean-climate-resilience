{
 "cells": [
  {
   "cell_type": "markdown",
   "metadata": {
    "application/vnd.databricks.v1+cell": {
     "cellMetadata": {},
     "inputWidgets": {},
     "nuid": "2444be14-c60e-4caf-b740-6eed05090535",
     "showTitle": false,
     "tableResultSettingsMap": {},
     "title": ""
    }
   },
   "source": [
    "## About the notebook\n",
    "This notebook is intended for creating a folder structure for a deep learning using the 'datasets' library. There should be train and test folder, respectively, under a dataset folder. Each subfolder inside train/ and test must be named according to the class label, and all images for that class should be placed in the corresponding folder.\n"
   ]
  },
  {
   "cell_type": "code",
   "execution_count": 0,
   "metadata": {
    "application/vnd.databricks.v1+cell": {
     "cellMetadata": {
      "byteLimit": 2048000,
      "rowLimit": 10000
     },
     "inputWidgets": {},
     "nuid": "12f39b57-9d35-42b8-903a-b4d02d5160a1",
     "showTitle": false,
     "tableResultSettingsMap": {},
     "title": ""
    }
   },
   "outputs": [],
   "source": [
    "!pip install geopandas"
   ]
  },
  {
   "cell_type": "code",
   "execution_count": 0,
   "metadata": {
    "application/vnd.databricks.v1+cell": {
     "cellMetadata": {
      "byteLimit": 2048000,
      "rowLimit": 10000
     },
     "inputWidgets": {},
     "nuid": "095ea1da-ebc1-4135-80b4-910e98436d03",
     "showTitle": false,
     "tableResultSettingsMap": {},
     "title": ""
    }
   },
   "outputs": [],
   "source": [
    "import zipfile\n",
    "import geopandas as gpd\n",
    "import os\n",
    "from PIL import Image"
   ]
  },
  {
   "cell_type": "code",
   "execution_count": 0,
   "metadata": {
    "application/vnd.databricks.v1+cell": {
     "cellMetadata": {
      "byteLimit": 2048000,
      "rowLimit": 10000
     },
     "inputWidgets": {},
     "nuid": "15029b58-37d3-49ae-93f7-0b8f82f17c2b",
     "showTitle": false,
     "tableResultSettingsMap": {},
     "title": ""
    }
   },
   "outputs": [],
   "source": [
    "ZIP_PATH = '/Volumes/prd_datascience_depcaribbeansids/volumes/depcaribbeansids/tiles_VCT.zip'\n",
    "OUTPUT_PATH = '/Volumes/prd_datascience_depcaribbeansids/volumes/depcaribbeansids/'"
   ]
  },
  {
   "cell_type": "code",
   "execution_count": 0,
   "metadata": {
    "application/vnd.databricks.v1+cell": {
     "cellMetadata": {
      "byteLimit": 2048000,
      "rowLimit": 10000
     },
     "inputWidgets": {},
     "nuid": "11465191-d8dd-49b8-aadb-054bd7f5587f",
     "showTitle": false,
     "tableResultSettingsMap": {},
     "title": ""
    }
   },
   "outputs": [],
   "source": [
    "with zipfile.ZipFile(ZIP_PATH, 'r') as zip_ref:\n",
    "  zip_ref.extractall(OUTPUT_PATH)"
   ]
  },
  {
   "cell_type": "code",
   "execution_count": 0,
   "metadata": {
    "application/vnd.databricks.v1+cell": {
     "cellMetadata": {
      "byteLimit": 2048000,
      "rowLimit": 10000
     },
     "inputWidgets": {},
     "nuid": "dd01af2b-84c9-4d2f-96d6-3a696b3b2e22",
     "showTitle": false,
     "tableResultSettingsMap": {},
     "title": ""
    }
   },
   "outputs": [],
   "source": [
    "labels = gpd.read_file(\"/Volumes/prd_datascience_depcaribbeansids/volumes/depcaribbeansids/tiles_VCT.geojson\")\n",
    "labels = labels[labels[\"roof_material_dataset\"].isin([\"train\", \"test\"])][[\"filename\", \"roof_material\", \"roof_pitch\", \"roof_material_dataset\"]]\n",
    "labelled_files = labels[\"filename\"].to_list()"
   ]
  },
  {
   "cell_type": "code",
   "execution_count": 0,
   "metadata": {
    "application/vnd.databricks.v1+cell": {
     "cellMetadata": {
      "byteLimit": 2048000,
      "rowLimit": 10000
     },
     "inputWidgets": {},
     "nuid": "2ba43657-e4a8-4b82-acd5-4c5d05f619ce",
     "showTitle": false,
     "tableResultSettingsMap": {},
     "title": ""
    }
   },
   "outputs": [],
   "source": [
    "target = 'material'\n",
    "# target = 'pitch'"
   ]
  },
  {
   "cell_type": "code",
   "execution_count": 0,
   "metadata": {
    "application/vnd.databricks.v1+cell": {
     "cellMetadata": {
      "byteLimit": 2048000,
      "rowLimit": 10000
     },
     "inputWidgets": {},
     "nuid": "a1ceee1f-99f6-4b3f-a4ca-29f9dc402d24",
     "showTitle": false,
     "tableResultSettingsMap": {},
     "title": ""
    }
   },
   "outputs": [],
   "source": [
    "train = labels[labels.roof_material_dataset == \"train\"]\n",
    "test = labels[labels.roof_material_dataset == \"test\"]\n",
    "train_index = list(train.index)\n",
    "test_index = list(test.index)"
   ]
  },
  {
   "cell_type": "code",
   "execution_count": 0,
   "metadata": {
    "application/vnd.databricks.v1+cell": {
     "cellMetadata": {
      "byteLimit": 2048000,
      "rowLimit": 10000
     },
     "inputWidgets": {},
     "nuid": "be056669-e6b8-4c10-8933-dbb4b9df130b",
     "showTitle": false,
     "tableResultSettingsMap": {},
     "title": ""
    }
   },
   "outputs": [],
   "source": [
    "DIRECTORY_PATH = '/Volumes/prd_datascience_depcaribbeansids/volumes/depcaribbeansids'\n",
    "for label in ['train', 'test']:\n",
    "  if target == 'material':\n",
    "    for material in ['healthy_metal', 'concrete_cement', 'incomplete', 'irregular_metal']:\n",
    "      if not os.path.exists(DIRECTORY_PATH + '/dataset_material/' + label + '/' + material):\n",
    "        os.makedirs(DIRECTORY_PATH + '/dataset_material/' + label + '/' + material)\n",
    "        print(f\"Directory '{DIRECTORY_PATH + '/dataset_material/' + label + '/' + material}' created or already exists.\")\n",
    "\n",
    "  elif target == 'pitch':\n",
    "    for pitch in ['gable', 'hip', 'flat', 'no_roof']:\n",
    "      if not os.path.exists(DIRECTORY_PATH + '/dataset_pitch/' + label + '/' + pitch):\n",
    "        os.makedirs(DIRECTORY_PATH + '/dataset_pitch/' + label + '/' + pitch)\n",
    "        print(f\"Directory '{DIRECTORY_PATH + '/dataset_pitch/' + label + '/' + pitch}' created or already exists.\")"
   ]
  },
  {
   "cell_type": "code",
   "execution_count": 0,
   "metadata": {
    "application/vnd.databricks.v1+cell": {
     "cellMetadata": {
      "byteLimit": 2048000,
      "rowLimit": 10000
     },
     "inputWidgets": {},
     "nuid": "ffb137fc-9808-47ae-8759-a26cc122b2b7",
     "showTitle": false,
     "tableResultSettingsMap": {},
     "title": ""
    }
   },
   "outputs": [],
   "source": [
    "if target == 'material':\n",
    "  for i in train_index:\n",
    "    image = Image.open('/Volumes/prd_datascience_depcaribbeansids/volumes/depcaribbeansids/tiles_VCT/tiles_VCT/'+train[\"filename\"][i])\n",
    "    if train[\"roof_material\"][i] == \"concrete/cement\":\n",
    "      OUTPUT_PATH = \"/Volumes/prd_datascience_depcaribbeansids/volumes/depcaribbeansids/dataset_material/train/concrete_cement/\" + train[\"filename\"][i]\n",
    "    else:\n",
    "      OUTPUT_PATH = \"/Volumes/prd_datascience_depcaribbeansids/volumes/depcaribbeansids/dataset_material/train/\" + train[\"roof_material\"][i] + \"/\" + train[\"filename\"][i]\n",
    "    image.save(OUTPUT_PATH, format=\"tiff\")\n",
    "\n",
    "elif target == 'pitch':\n",
    "  for i in train_index:\n",
    "    image = Image.open('/Volumes/prd_datascience_depcaribbeansids/volumes/depcaribbeansids/tiles_VCT/tiles_VCT/'+train[\"filename\"][i])\n",
    "    OUTPUT_PATH = \"/Volumes/prd_datascience_depcaribbeansids/volumes/depcaribbeansids/dataset_pitch/train/\" + train[\"roof_pitch\"][i] + \"/\" + train[\"filename\"][i]\n",
    "    image.save(OUTPUT_PATH, format=\"tiff\")"
   ]
  },
  {
   "cell_type": "code",
   "execution_count": 0,
   "metadata": {
    "application/vnd.databricks.v1+cell": {
     "cellMetadata": {
      "byteLimit": 2048000,
      "rowLimit": 10000
     },
     "inputWidgets": {},
     "nuid": "0daf95f2-c3f8-4715-a4f7-8cff5bdcdb00",
     "showTitle": false,
     "tableResultSettingsMap": {},
     "title": ""
    }
   },
   "outputs": [],
   "source": [
    "if target == 'material':\n",
    "  for i in test_index:\n",
    "    image = Image.open('/Volumes/prd_datascience_depcaribbeansids/volumes/depcaribbeansids/tiles_VCT/tiles_VCT/'+test[\"filename\"][i])\n",
    "    if test[\"roof_material\"][i] == \"concrete/cement\":\n",
    "      OUTPUT_PATH = \"/Volumes/prd_datascience_depcaribbeansids/volumes/depcaribbeansids/dataset_material/test/concrete_cement/\" + test[\"filename\"][i]\n",
    "    else:\n",
    "      OUTPUT_PATH = \"/Volumes/prd_datascience_depcaribbeansids/volumes/depcaribbeansids/dataset_material/test/\" + test[\"roof_material\"][i] + \"/\" + test[\"filename\"][i]\n",
    "    image.save(OUTPUT_PATH, format=\"tiff\")\n",
    "\n",
    "elif target == 'pitch':\n",
    "  for i in test_index:\n",
    "    image = Image.open('/Volumes/prd_datascience_depcaribbeansids/volumes/depcaribbeansids/tiles_VCT/tiles_VCT/'+test[\"filename\"][i])\n",
    "    OUTPUT_PATH = \"/Volumes/prd_datascience_depcaribbeansids/volumes/depcaribbeansids/dataset_pitch/test/\" + test[\"roof_pitch\"][i] + \"/\" + test[\"filename\"][i]\n",
    "    image.save(OUTPUT_PATH, format=\"tiff\")"
   ]
  }
 ],
 "metadata": {
  "application/vnd.databricks.v1+notebook": {
   "computePreferences": null,
   "dashboards": [],
   "environmentMetadata": {
    "base_environment": "",
    "environment_version": "2"
   },
   "inputWidgetPreferences": null,
   "language": "python",
   "notebookMetadata": {
    "pythonIndentUnit": 2
   },
   "notebookName": "prepare_dataset",
   "widgets": {}
  },
  "language_info": {
   "name": "python"
  }
 },
 "nbformat": 4,
 "nbformat_minor": 0
}
